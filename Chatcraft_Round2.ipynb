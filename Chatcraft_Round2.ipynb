{
  "cells": [
    {
      "cell_type": "code",
      "execution_count": 2,
      "metadata": {
        "id": "kcH_1C1HwNDo"
      },
      "outputs": [],
      "source": [
        "import tensorflow as tf\n",
        "import numpy as np\n",
        "import pandas as pd\n",
        "import json\n",
        "import nltk\n",
        "from tensorflow.keras.preprocessing.text import Tokenizer\n",
        "from tensorflow.keras.layers import Input, Embedding, LSTM, Dense, GlobalMaxPooling1D,Flatten\n",
        "from tensorflow.keras.models import Model\n",
        "import matplotlib.pyplot as plt\n",
        "from tensorflow.keras.preprocessing.sequence import pad_sequences\n",
        "from sklearn.preprocessing import LabelEncoder\n",
        "from pandas.io.formats.format import return_docstring\n",
        "import random\n"
      ]
    },
    {
      "cell_type": "markdown",
      "metadata": {
        "id": "uphI0NcFxMt3"
      },
      "source": [
        "#**Q1**\n",
        "**Design a intent file on below data**"
      ]
    },
    {
      "cell_type": "markdown",
      "metadata": {
        "id": "Mg4aE1Z0xUUT"
      },
      "source": [
        "\n",
        "\n",
        "What is artificial intelligence?\tArtificial intelligence is a branch of computer science that aims to create intelligent machines capable of performing tasks that typically require human intelligence.\n",
        "How does machine learning work?\tMachine learning is a subset of AI that provides systems the ability to automatically learn and improve from experience without being explicitly programmed.\n",
        "Explain the concept of deep learning.\tDeep learning is a type of machine learning that involves neural networks with many layers (deep neural networks). It is particularly effective for tasks such as image and speech recognition.\n",
        "What are neural networks?\tNeural networks are computational models inspired by the structure and functioning of the human brain. They consist of interconnected nodes (neurons) that process information.\n",
        "How is natural language processing used in AI?\tNatural language processing (NLP) involves the interaction between computers and humans using natural language. It enables machines to understand, interpret, and generate human-like text.\n",
        "What is the difference between supervised and unsupervised learning?\tIn supervised learning, the algorithm is trained on a labeled dataset, while unsupervised learning involves training on an unlabeled dataset, letting the algorithm find patterns on its own.\n",
        "Can you provide examples of AI applications in real life?\tAI has applications in various fields, including healthcare (diagnosis and treatment planning), finance (fraud detection), autonomous vehicles, virtual assistants, and more.\n",
        "What are the ethical considerations in AI development?\tEthical considerations in AI development include issues related to bias in algorithms, transparency, accountability, job displacement, and the impact on privacy.\n",
        "How does reinforcement learning work?\tReinforcement learning involves an agent learning through trial and error. It receives feedback in the form of rewards or penalties based on its actions in an environment.\n",
        "What is computer vision?\tComputer vision enables machines to interpret and make decisions based on visual data. It is used in image and video analysis, facial recognition, object detection, and more.\n",
        "Explain the Turing test.\tThe Turing test is a measure of a machine's ability to exhibit intelligent behavior equivalent to or indistinguishable from that of a human. It assesses natural language conversation.\n",
        "What are the challenges in developing strong AI?\tChallenges in developing strong AI include achieving common sense reasoning, understanding context, ethical concerns, and addressing potential risks and biases in AI systems.\n",
        "How is AI leveraged in the field of agriculture for precision farming?\tAI is utilized in agriculture for precision farming through applications like crop monitoring, automated harvesting, and optimizing resource utilization for sustainable and efficient farming practices.\n",
        "In what ways does AI contribute to the cybersecurity landscape?\tAI enhances cybersecurity by identifying and responding to threats in real-time, predicting potential vulnerabilities, and improving overall resilience against cyber attacks.\n",
        "Can AI assist in drug discovery and development in the pharmaceutical industry?\tAI accelerates drug discovery by analyzing biological data, predicting potential drug candidates, and streamlining the process of bringing new pharmaceuticals to market.\n",
        "What ethical considerations arise with the use of AI in criminal justice systems?\tThe use of AI in criminal justice raises ethical concerns related to bias, transparency, and fairness, prompting discussions on responsible and unbiased deployment of AI technologies.\n",
        "How does AI impact environmental sustainability efforts?\tAI contributes to environmental sustainability by optimizing resource management, monitoring pollution levels, and facilitating data-driven decision-making for sustainable development.\n",
        "In what ways can AI be applied to enhance customer experience in various industries?\tAI improves customer experience through personalized recommendations, chatbots for customer support, and predictive analytics to understand and meet customer preferences.\n",
        "What challenges and opportunities does AI present in the realm of space exploration?\tAI presents challenges and opportunities in space exploration by aiding in autonomous spacecraft navigation, data analysis, and the development of intelligent robotic systems for space missions.\n",
        "What is the role of AI in augmenting human capabilities in the workplace?\tAI augments human capabilities in the workplace by automating routine tasks, providing data-driven insights, and facilitating collaboration between humans and intelligent systems.\n",
        "Can AI be used to address societal challenges such as poverty and inequality?\tAI has the potential to address societal challenges by supporting data-driven decision-making in areas like poverty alleviation, healthcare accessibility, and education opportunities.\n",
        "How can AI contribute to language translation and cross-cultural communication?\tAI enhances language translation by employing natural language processing techniques, enabling more accurate and efficient cross-cultural communication in diverse global contexts.\n"
      ]
    },
    {
      "cell_type": "markdown",
      "metadata": {},
      "source": []
    },
    {
      "cell_type": "code",
      "execution_count": 4,
      "metadata": {
        "colab": {
          "base_uri": "https://localhost:8080/"
        },
        "id": "6pTdmfM3x9kI",
        "outputId": "170612f6-8e13-4a67-835e-37ae25a57ddc"
      },
      "outputs": [
        {
          "name": "stdout",
          "output_type": "stream",
          "text": [
            "intents.json has been created.\n"
          ]
        }
      ],
      "source": [
        "intents_data = {\n",
        "\n",
        "  \"intents\": [\n",
        "        {\n",
        "            \"tag\": \"greeting\", \n",
        "            \"patterns\": [\"Hi there\", \"How are you\", \"Is anyone there?\", \"Hey\", \"Hola\", \"Hello\", \"Good day\"],\n",
        "            \"responses\": [\"Hello\", \"Good to see you again\", \"Hi there, how can I help?\"],\n",
        "         },\n",
        "        {\n",
        "            \"tag\": \"goodbye\", \n",
        "            \"patterns\": [\"Bye\", \"See you later\", \"Goodbye\", \"Nice chatting to you, bye\", \"Till next time\"],\n",
        "            \"responses\": [\"See you!\", \"Have a nice day\", \"Bye! Come back again soon.\"],\n",
        "         },\n",
        "        {\n",
        "            \"tag\": \"thanks\", \n",
        "            \"patterns\": [\"Thanks\", \"Thank you\", \"That's helpful\", \"Awesome, thanks\", \"Thanks for helping me\"],\n",
        "            \"responses\": [\"My pleasure\", \"You're Welcome\"],\n",
        "         }, {\n",
        "            \"tag\": \"personalized_healthcare\",\n",
        "            \"responses\": [\"AI in personalized healthcare involves analyzing individual patient data to tailor treatment plans.\", \"It uses machine learning to customize medical approaches based on patient information.\"]\n",
        "        },\n",
        "        {\n",
        "            \"tag\": \"autonomous_vehicles\",\n",
        "            \"responses\": [\"AI plays a crucial role in autonomous vehicles by enabling perception, decision-making, and safe navigation.\", \"It utilizes machine learning algorithms and computer vision systems for self-driving capabilities.\"]\n",
        "        },\n",
        "        {\n",
        "            \"tag\": \"creative_ai\",\n",
        "            \"responses\": [\"Yes, AI can be used for creative purposes through generative models.\", \"It can create art, compose music, and even write stories based on learned patterns.\"]\n",
        "        },\n",
        "        {\n",
        "            \"tag\": \"ai_risks\",\n",
        "            \"responses\": [\"Potential risks of widespread AI adoption include job displacement, ethical concerns, biases, security vulnerabilities, and misuse of AI technologies.\", \"Careful consideration is essential to mitigate these risks.\"]\n",
        "        },\n",
        "        {\n",
        "            \"tag\": \"ai_education\",\n",
        "            \"responses\": [\"AI in education aids in personalized learning, automated grading, and adaptive educational systems.\", \"It identifies student learning patterns and provides targeted interventions.\"]\n",
        "        },\n",
        "  ]\n",
        "}\n",
        "\n",
        "\n",
        "\n",
        "with open('content.json', 'w') as file:\n",
        "    json.dump(intents_data, file, indent=4)\n",
        "\n",
        "print(\"intents.json has been created.\")\n"
      ]
    },
    {
      "cell_type": "markdown",
      "metadata": {},
      "source": [
        "### Q1)B Scenario: Your bot must prepare a student for Machine Learning and Aritfical Intelligence Course Exam"
      ]
    },
    {
      "cell_type": "markdown",
      "metadata": {
        "id": "FxlgSBGzzMCG"
      },
      "source": [
        "#**Q2**\n",
        "**Convert the .json file to an appropriate dataframe**"
      ]
    },
    {
      "cell_type": "code",
      "execution_count": null,
      "metadata": {
        "id": "qZUvgg6Gzbu5"
      },
      "outputs": [],
      "source": [
        "#import the data\n",
        "with open('content.json') as content:\n",
        "  data = json.load(content)\n",
        "\n"
      ]
    },
    {
      "cell_type": "markdown",
      "metadata": {
        "id": "aLF03wAwCrqC"
      },
      "source": [
        "#**Q3**\n",
        "#**Part A**\n",
        "Can you provide a histogram visualization representing the distribution of question lengths in the dataset?"
      ]
    },
    {
      "cell_type": "code",
      "execution_count": null,
      "metadata": {
        "id": "z_4Y2zSnCvG5"
      },
      "outputs": [],
      "source": []
    },
    {
      "cell_type": "markdown",
      "metadata": {
        "id": "rH6obYAtCvnn"
      },
      "source": [
        "#**Part B**\n",
        "\n",
        "Share a bar chart that displays the top 10 most frequent words in the questions."
      ]
    },
    {
      "cell_type": "code",
      "execution_count": null,
      "metadata": {
        "id": "qf9NDrEMCzJ1"
      },
      "outputs": [],
      "source": []
    },
    {
      "cell_type": "markdown",
      "metadata": {
        "id": "XxmTI3dUz0ca"
      },
      "source": [
        "#**Q4**\n",
        "**Clean the data and prepare it**"
      ]
    },
    {
      "cell_type": "code",
      "execution_count": null,
      "metadata": {
        "id": "zK9cg7LBz_ze"
      },
      "outputs": [],
      "source": [
        "# what's   your   name?   --> what is your name\n",
        "\n",
        "\n",
        "\n"
      ]
    },
    {
      "cell_type": "markdown",
      "metadata": {
        "id": "xQlI4xzk0VJe"
      },
      "source": [
        "#**Q5**\n",
        "##**Part A**\n",
        "  **Tokenize the Data**"
      ]
    },
    {
      "cell_type": "code",
      "execution_count": null,
      "metadata": {
        "id": "o_g9D-s00gRj"
      },
      "outputs": [],
      "source": []
    },
    {
      "cell_type": "markdown",
      "metadata": {
        "id": "QvW29owbDyPT"
      },
      "source": [
        "##**Part B**\n",
        "**Validate****"
      ]
    },
    {
      "cell_type": "code",
      "execution_count": null,
      "metadata": {
        "id": "nrAV0tDDD1k9"
      },
      "outputs": [],
      "source": []
    },
    {
      "cell_type": "markdown",
      "metadata": {
        "id": "yVMei0IcDJzi"
      },
      "source": [
        "##**Part C**\n",
        "  **Do Label Encoding on Data**"
      ]
    },
    {
      "cell_type": "code",
      "execution_count": null,
      "metadata": {
        "id": "IorNRRBjD-2t"
      },
      "outputs": [],
      "source": []
    },
    {
      "cell_type": "markdown",
      "metadata": {
        "id": "HMtABnQ413Xr"
      },
      "source": [
        "##**Part D**\n",
        "  **Create The Model based on LSTM architecture**"
      ]
    },
    {
      "cell_type": "code",
      "execution_count": null,
      "metadata": {
        "id": "18GSm63317G8"
      },
      "outputs": [],
      "source": []
    },
    {
      "cell_type": "markdown",
      "metadata": {
        "id": "7sSWhzm23T7v"
      },
      "source": [
        "#**Q6**\n",
        "##**Part A**\n",
        "**Compile The Data**\n"
      ]
    },
    {
      "cell_type": "code",
      "execution_count": null,
      "metadata": {
        "id": "r4-EV0Xh27fi"
      },
      "outputs": [],
      "source": []
    },
    {
      "cell_type": "markdown",
      "metadata": {
        "id": "DtiN8MNxEQh0"
      },
      "source": [
        "##**Part B**\n",
        " **Train The Data**"
      ]
    },
    {
      "cell_type": "code",
      "execution_count": null,
      "metadata": {
        "id": "5yj0WrXJEVj2"
      },
      "outputs": [],
      "source": []
    },
    {
      "cell_type": "markdown",
      "metadata": {
        "id": "ER_QT1FJ-3aJ"
      },
      "source": [
        "#**Part C**\n",
        "**Test the model with Appropriate metrics**"
      ]
    },
    {
      "cell_type": "code",
      "execution_count": null,
      "metadata": {
        "id": "sRW0hfIHJ11p"
      },
      "outputs": [],
      "source": []
    },
    {
      "cell_type": "markdown",
      "metadata": {
        "id": "bBFakPM_4MBe"
      },
      "source": [
        "#**Q7**\n",
        "\n",
        "**Inference Function**"
      ]
    },
    {
      "cell_type": "markdown",
      "metadata": {
        "id": "nx2mLyOSJNcw"
      },
      "source": [
        "#*your model should react ' this type of conversation is not allowed' for slang words such as words like Damn or Dude and more*"
      ]
    },
    {
      "cell_type": "markdown",
      "metadata": {},
      "source": [
        "#Your model should provide output regarding Artificial Intelligence"
      ]
    },
    {
      "cell_type": "code",
      "execution_count": null,
      "metadata": {
        "id": "beWNnUh14fqR"
      },
      "outputs": [],
      "source": [
        "import random\n",
        "\n",
        "while True:\n",
        "  texts_p=[]\n",
        "  prediction_input = input(\"you: \")\n",
        "\n",
        "  #removing punctuation\n",
        "\n",
        "\n",
        "  #tokenization and padding\n",
        "\n",
        "\n",
        "\n",
        "  #finding the right tag\n",
        "\n",
        "  if response_tag == 'goodbye':\n",
        "    break\n"
      ]
    }
  ],
  "metadata": {
    "colab": {
      "provenance": []
    },
    "kernelspec": {
      "display_name": "Python 3",
      "name": "python3"
    },
    "language_info": {
      "name": "python"
    }
  },
  "nbformat": 4,
  "nbformat_minor": 0
}

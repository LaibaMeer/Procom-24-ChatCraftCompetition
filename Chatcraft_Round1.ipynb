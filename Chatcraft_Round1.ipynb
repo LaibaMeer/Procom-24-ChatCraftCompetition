{
 "cells": [
  {
   "cell_type": "markdown",
   "id": "0b185b49",
   "metadata": {},
   "source": [
    "# Round 1   FineTune a DistilBertClassification Model\n",
    "# On Pre-processed Dataset\n"
   ]
  },
  {
   "cell_type": "markdown",
   "id": "92b91e06",
   "metadata": {},
   "source": [
    "## Your Model should complete the following requirements\n"
   ]
  },
  {
   "cell_type": "markdown",
   "id": "4ad617ae",
   "metadata": {},
   "source": [
    "### 1. Divide your dataset into Train,Validate and Test sets"
   ]
  },
  {
   "cell_type": "markdown",
   "id": "0f51a4fb",
   "metadata": {},
   "source": [
    "### 2. Proper formatting"
   ]
  },
  {
   "cell_type": "markdown",
   "id": "82ea1898",
   "metadata": {},
   "source": [
    "### 3. Choose appropriate learning rate, batch sizes and number of epochs, suitable arguments to train your model."
   ]
  },
  {
   "cell_type": "markdown",
   "id": "3422cd0c",
   "metadata": {},
   "source": [
    "### 4. Calculate the accuracy score\n"
   ]
  },
  {
   "cell_type": "markdown",
   "id": "1938d286",
   "metadata": {},
   "source": [
    "### 5. Implement the Confusion Matrix in your code"
   ]
  },
  {
   "cell_type": "markdown",
   "id": "110fefc6",
   "metadata": {},
   "source": [
    "### 6. Train the model on the training dataset while monitoring performance on the validation set."
   ]
  },
  {
   "cell_type": "markdown",
   "id": "7983baff",
   "metadata": {},
   "source": [
    "###  Libraries:\n"
   ]
  },
  {
   "cell_type": "code",
   "execution_count": null,
   "id": "c007a027",
   "metadata": {},
   "outputs": [],
   "source": [
    "!pip install transformers\n",
    "import pandas\n",
    "import tensorflow\n",
    "from sklearn.metrics import confusion_matrix\n",
    "from sklearn.preprocessing import LabelEncoder \n",
    "from sklearn.model_selection import train_test_split\n",
    "from datasets "
   ]
  },
  {
   "cell_type": "markdown",
   "id": "897a35d5",
   "metadata": {},
   "source": [
    "### Model:"
   ]
  },
  {
   "cell_type": "code",
   "execution_count": null,
   "id": "7a46efba",
   "metadata": {},
   "outputs": [],
   "source": [
    "from transformers import TFDistilBertForSequenceClassification\n",
    "\n",
    "from transformers import TrainingArguments\n",
    "training_args =TrainingArguments(\n",
    "      #Arguments to train your model\n",
    ")"
   ]
  },
  {
   "cell_type": "code",
   "execution_count": null,
   "id": "1c1fe5d6",
   "metadata": {},
   "outputs": [],
   "source": []
  }
 ],
 "metadata": {
  "kernelspec": {
   "display_name": "Python 3 (ipykernel)",
   "language": "python",
   "name": "python3"
  },
  "language_info": {
   "codemirror_mode": {
    "name": "ipython",
    "version": 3
   },
   "file_extension": ".py",
   "mimetype": "text/x-python",
   "name": "python",
   "nbconvert_exporter": "python",
   "pygments_lexer": "ipython3",
   "version": "3.11.5"
  }
 },
 "nbformat": 4,
 "nbformat_minor": 5
}

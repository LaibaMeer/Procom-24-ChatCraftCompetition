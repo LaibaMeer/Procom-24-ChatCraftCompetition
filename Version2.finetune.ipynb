{
 "cells": [
  {
   "cell_type": "code",
   "execution_count": 1,
   "id": "c4a8577d",
   "metadata": {},
   "outputs": [
    {
     "data": {
      "application/vnd.jupyter.widget-view+json": {
       "model_id": "",
       "version_major": 2,
       "version_minor": 0
      },
      "text/plain": [
       "model.safetensors:   0%|          | 0.00/268M [00:00<?, ?B/s]"
      ]
     },
     "metadata": {},
     "output_type": "display_data"
    },
    {
     "name": "stderr",
     "output_type": "stream",
     "text": [
      "D:\\anaconda\\Lib\\site-packages\\huggingface_hub\\file_download.py:149: UserWarning: `huggingface_hub` cache-system uses symlinks by default to efficiently store duplicated files but your machine does not support them in C:\\Users\\HP\\.cache\\huggingface\\hub\\models--distilbert-base-uncased. Caching files will still work but in a degraded version that might require more space on your disk. This warning can be disabled by setting the `HF_HUB_DISABLE_SYMLINKS_WARNING` environment variable. For more details, see https://huggingface.co/docs/huggingface_hub/how-to-cache#limitations.\n",
      "To support symlinks on Windows, you either need to activate Developer Mode or to run Python as an administrator. In order to see activate developer mode, see this article: https://docs.microsoft.com/en-us/windows/apps/get-started/enable-your-device-for-development\n",
      "  warnings.warn(message)\n",
      "Some weights of DistilBertForSequenceClassification were not initialized from the model checkpoint at distilbert-base-uncased and are newly initialized: ['classifier.bias', 'classifier.weight', 'pre_classifier.bias', 'pre_classifier.weight']\n",
      "You should probably TRAIN this model on a down-stream task to be able to use it for predictions and inference.\n",
      "C:\\Users\\HP\\AppData\\Local\\Temp\\ipykernel_19880\\2442979554.py:17: FutureWarning: load_metric is deprecated and will be removed in the next major version of datasets. Use 'evaluate.load' instead, from the new library 🤗 Evaluate: https://huggingface.co/docs/evaluate\n",
      "  metric = load_metric(\"accuracy\")\n"
     ]
    },
    {
     "data": {
      "application/vnd.jupyter.widget-view+json": {
       "model_id": "",
       "version_major": 2,
       "version_minor": 0
      },
      "text/plain": [
       "Downloading builder script:   0%|          | 0.00/1.65k [00:00<?, ?B/s]"
      ]
     },
     "metadata": {},
     "output_type": "display_data"
    },
    {
     "ename": "TypeError",
     "evalue": "'ellipsis' object is not subscriptable",
     "output_type": "error",
     "traceback": [
      "\u001b[1;31m---------------------------------------------------------------------------\u001b[0m",
      "\u001b[1;31mTypeError\u001b[0m                                 Traceback (most recent call last)",
      "Cell \u001b[1;32mIn[1], line 26\u001b[0m\n\u001b[0;32m     23\u001b[0m   \u001b[38;5;28;01mreturn\u001b[39;00m encoded_data, labels\n\u001b[0;32m     25\u001b[0m \u001b[38;5;66;03m# Prepare training and validation data\u001b[39;00m\n\u001b[1;32m---> 26\u001b[0m train_encodings, train_labels \u001b[38;5;241m=\u001b[39m prepare_data(train_data)\n\u001b[0;32m     27\u001b[0m val_encodings, val_labels \u001b[38;5;241m=\u001b[39m prepare_data(validation_data)\n\u001b[0;32m     29\u001b[0m \u001b[38;5;66;03m# Define the optimizer and learning rate scheduler (adjust hyperparameters as needed)\u001b[39;00m\n",
      "Cell \u001b[1;32mIn[1], line 21\u001b[0m, in \u001b[0;36mprepare_data\u001b[1;34m(data)\u001b[0m\n\u001b[0;32m     20\u001b[0m \u001b[38;5;28;01mdef\u001b[39;00m \u001b[38;5;21mprepare_data\u001b[39m(data):\n\u001b[1;32m---> 21\u001b[0m   encoded_data \u001b[38;5;241m=\u001b[39m tokenizer(data[\u001b[38;5;124m\"\u001b[39m\u001b[38;5;124mtext\u001b[39m\u001b[38;5;124m\"\u001b[39m], padding\u001b[38;5;241m=\u001b[39m\u001b[38;5;124m\"\u001b[39m\u001b[38;5;124mmax_length\u001b[39m\u001b[38;5;124m\"\u001b[39m, truncation\u001b[38;5;241m=\u001b[39m\u001b[38;5;28;01mTrue\u001b[39;00m)\n\u001b[0;32m     22\u001b[0m   labels \u001b[38;5;241m=\u001b[39m data[\u001b[38;5;124m\"\u001b[39m\u001b[38;5;124mlabel\u001b[39m\u001b[38;5;124m\"\u001b[39m]\n\u001b[0;32m     23\u001b[0m   \u001b[38;5;28;01mreturn\u001b[39;00m encoded_data, labels\n",
      "\u001b[1;31mTypeError\u001b[0m: 'ellipsis' object is not subscriptable"
     ]
    }
   ],
   "source": [
    "from transformers import AutoModelForSequenceClassification, AutoTokenizer\n",
    "from datasets import load_metric\n",
    "\n",
    "# Define model and tokenizer names (replace with desired names)\n",
    "model_name = \"distilbert-base-uncased\"\n",
    "tokenizer_name = model_name\n",
    "\n",
    "# Load the DistilBERT model and tokenizer\n",
    "model = AutoModelForSequenceClassification.from_pretrained(model_name)\n",
    "tokenizer = AutoTokenizer.from_pretrained(tokenizer_name)\n",
    "\n",
    "# Load your training and validation datasets (replace with your data loading logic)\n",
    "train_data = ...  # Load your training data here\n",
    "validation_data = ...  # Load your validation data here\n",
    "\n",
    "# Define the metric (e.g., accuracy)\n",
    "metric = load_metric(\"accuracy\")\n",
    "\n",
    "# Function to prepare data for training (replace with your data preprocessing logic)\n",
    "def prepare_data(data):\n",
    "  encoded_data = tokenizer(data[\"text\"], padding=\"max_length\", truncation=True)\n",
    "  labels = data[\"label\"]\n",
    "  return encoded_data, labels\n",
    "\n",
    "# Prepare training and validation data\n",
    "train_encodings, train_labels = prepare_data(train_data)\n",
    "val_encodings, val_labels = prepare_data(validation_data)\n",
    "\n",
    "# Define the optimizer and learning rate scheduler (adjust hyperparameters as needed)\n",
    "from transformers import AdamW\n",
    "optimizer = AdamW(model.parameters(), lr=2e-5)\n",
    "\n",
    "# Train the model\n",
    "from transformers import TrainingArguments\n",
    "\n",
    "training_args = TrainingArguments(\n",
    "    output_dir=\"./results\",  # Replace with your output directory\n",
    "    per_device_train_batch_size=16,  # Adjust batch size as needed\n",
    "    num_train_epochs=3,  # Adjust number of epochs as needed\n",
    "    eval_steps=100,  # Evaluate after every 100 steps\n",
    ")\n",
    "\n",
    "# Train the model\n",
    "model.train()\n",
    "for epoch in range(training_args.num_train_epochs):\n",
    "  # Train loop (replace with your custom training loop logic)\n",
    "  # ...\n",
    "\n",
    "  # Evaluate the model on validation set\n",
    "  model.eval()\n",
    "  with torch.no_grad():\n",
    "    predictions, labels = ..., ...  # Implement logic for predictions and labels\n",
    "\n",
    "    # Calculate evaluation metrics\n",
    "    eval_metric = metric.compute(predictions=predictions, references=labels)\n",
    "    print(f\"Epoch {epoch+1} - Validation Accuracy: {eval_metric['accuracy']}\")\n",
    "\n",
    "# Save the fine-tuned model\n",
    "model.save_pretrained(\"./fine-tuned-distilbert\")\n",
    "\n"
   ]
  }
 ],
 "metadata": {
  "kernelspec": {
   "display_name": "Python 3 (ipykernel)",
   "language": "python",
   "name": "python3"
  },
  "language_info": {
   "codemirror_mode": {
    "name": "ipython",
    "version": 3
   },
   "file_extension": ".py",
   "mimetype": "text/x-python",
   "name": "python",
   "nbconvert_exporter": "python",
   "pygments_lexer": "ipython3",
   "version": "3.11.5"
  }
 },
 "nbformat": 4,
 "nbformat_minor": 5
}
